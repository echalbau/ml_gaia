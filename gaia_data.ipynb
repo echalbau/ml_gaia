{
 "cells": [
  {
   "cell_type": "code",
   "execution_count": 1,
   "id": "4ca49b5c",
   "metadata": {},
   "outputs": [],
   "source": [
    "import numpy as np\n",
    "import matplotlib.pyplot as plt\n",
    "import pandas as pd\n",
    "import matplotlib.pyplot as plt\n",
    "\n",
    "from sklearn.tree import DecisionTreeRegressor\n",
    "from astropy.coordinates import SkyCoord\n",
    "from astropy import units as u\n",
    "from time import time\n",
    "\n",
    "from matplotlib import rc\n",
    "from matplotlib.ticker import AutoMinorLocator\n",
    "\n",
    "\n",
    "def font_stile(a):\n",
    "    rc('font',**{'family':'serif','serif':[a]})\n",
    "    rc('text', usetex=True)\n",
    "    return True\n",
    "\n",
    "def crossmatch_tree(coords1, coords2, radius):\n",
    "    start_time = time()\n",
    "    max_radius = radius\n",
    "    matches = []\n",
    "    no_matches = []\n",
    "    \n",
    "    \n",
    "    coords1_sc = SkyCoord(coords1*u.degree, frame='icrs')\n",
    "    coords2_sc = SkyCoord(coords2*u.degree, frame='icrs')\n",
    "    \n",
    "\n",
    "    closest_ids, closest_dists, _ = coords1_sc.match_to_catalog_sky(coords2_sc)\n",
    "    \n",
    "    for id1, (closest_id2, dist) in enumerate(zip(closest_ids, closest_dists)):\n",
    "        closest_dist = dist.value\n",
    "        \n",
    "        if closest_dist > max_radius:\n",
    "            no_matches.append(id1)\n",
    "        else:\n",
    "            matches.append([id1, closest_id2, closest_dist])\n",
    "    \n",
    "    time_taken = time() - start_time\n",
    "    return matches, no_matches, time_taken\n"
   ]
  },
  {
   "cell_type": "code",
   "execution_count": 2,
   "id": "c1308072",
   "metadata": {},
   "outputs": [],
   "source": [
    "plt.rcParams.update({'font.size': 11})\n",
    "activated = font_stile('Arial')"
   ]
  },
  {
   "cell_type": "code",
   "execution_count": 3,
   "id": "3bc3ba79",
   "metadata": {},
   "outputs": [],
   "source": [
    "full_data_1 = pd.read_csv(\"/home/esteban/Desktop/ml_gaia/smaller_data_cutting_mean_magintude.csv\")"
   ]
  },
  {
   "cell_type": "code",
   "execution_count": 4,
   "id": "eb4e1768",
   "metadata": {},
   "outputs": [],
   "source": [
    "full_data_2 = pd.read_csv(\"/home/esteban/Desktop/ml_gaia/south_pole_data.csv\")"
   ]
  },
  {
   "cell_type": "code",
   "execution_count": 5,
   "id": "c96c3500",
   "metadata": {},
   "outputs": [],
   "source": [
    "full_data = pd.concat([full_data_1], ignore_index=True)"
   ]
  },
  {
   "cell_type": "code",
   "execution_count": 6,
   "id": "b5f6d779",
   "metadata": {},
   "outputs": [],
   "source": [
    "gaia_alert_data = pd.read_csv(\"/home/esteban/Desktop/ml_gaia/alerts.csv\")"
   ]
  },
  {
   "cell_type": "code",
   "execution_count": 7,
   "id": "ac6a2974",
   "metadata": {},
   "outputs": [
    {
     "data": {
      "text/plain": [
       "unknown           13683\n",
       "SN Ia              1978\n",
       "QSO                 939\n",
       "CV                  646\n",
       "SN II               635\n",
       "YSO                 209\n",
       "AGN                 142\n",
       "SN IIn              122\n",
       "SN IIP               97\n",
       "BL Lac               90\n",
       "SN Ic                60\n",
       "Varstar              58\n",
       "SN Ib                54\n",
       "ULENS                42\n",
       "SN IIb               41\n",
       "SLSN                 40\n",
       "Nova                 35\n",
       "star                 28\n",
       "SN Ic-BL             24\n",
       "SN Ib/c              23\n",
       "SN Ia-pec            17\n",
       "SN I                 15\n",
       "TDE                  15\n",
       "dM                   15\n",
       "SN                   13\n",
       "SN Ibn               12\n",
       "RCrB                 11\n",
       "XRB                  11\n",
       "symbiotic star        7\n",
       "SN Ia-CSM             6\n",
       "SN Iax                5\n",
       "Other                 4\n",
       "galaxy                4\n",
       "CCSN                  4\n",
       "LBV                   4\n",
       "SN IIL                3\n",
       "SSO                   2\n",
       "SN II?                1\n",
       "SN IIn-pec            1\n",
       "SN I-pec              1\n",
       "dK                    1\n",
       "ILRT                  1\n",
       "SN imposter           1\n",
       "SN Ic-pec             1\n",
       "NaN                   1\n",
       "Name:  Class, dtype: int64"
      ]
     },
     "execution_count": 7,
     "metadata": {},
     "output_type": "execute_result"
    }
   ],
   "source": [
    "gaia_alert_data[\" Class\"].value_counts(dropna=False)"
   ]
  },
  {
   "cell_type": "code",
   "execution_count": 8,
   "id": "84a4ee8e",
   "metadata": {},
   "outputs": [],
   "source": [
    "full_data_top = full_data.head()"
   ]
  },
  {
   "cell_type": "code",
   "execution_count": 9,
   "id": "f97b3c27",
   "metadata": {},
   "outputs": [],
   "source": [
    "full_data_alert_top = gaia_alert_data.head()"
   ]
  },
  {
   "cell_type": "code",
   "execution_count": 10,
   "id": "71cf5b50",
   "metadata": {},
   "outputs": [
    {
     "data": {
      "text/html": [
       "<div>\n",
       "<style scoped>\n",
       "    .dataframe tbody tr th:only-of-type {\n",
       "        vertical-align: middle;\n",
       "    }\n",
       "\n",
       "    .dataframe tbody tr th {\n",
       "        vertical-align: top;\n",
       "    }\n",
       "\n",
       "    .dataframe thead th {\n",
       "        text-align: right;\n",
       "    }\n",
       "</style>\n",
       "<table border=\"1\" class=\"dataframe\">\n",
       "  <thead>\n",
       "    <tr style=\"text-align: right;\">\n",
       "      <th></th>\n",
       "      <th>source_id</th>\n",
       "      <th>random_index</th>\n",
       "      <th>l</th>\n",
       "      <th>b</th>\n",
       "      <th>ra</th>\n",
       "      <th>dec</th>\n",
       "      <th>phot_g_mean_mag</th>\n",
       "      <th>bp_g</th>\n",
       "      <th>g_rp</th>\n",
       "    </tr>\n",
       "  </thead>\n",
       "  <tbody>\n",
       "    <tr>\n",
       "      <th>0</th>\n",
       "      <td>760561364351045120</td>\n",
       "      <td>1503350018</td>\n",
       "      <td>181.000067</td>\n",
       "      <td>70.000004</td>\n",
       "      <td>171.800075</td>\n",
       "      <td>36.120229</td>\n",
       "      <td>18.281464</td>\n",
       "      <td>0.662739</td>\n",
       "      <td>0.735563</td>\n",
       "    </tr>\n",
       "    <tr>\n",
       "      <th>1</th>\n",
       "      <td>1539023155958580352</td>\n",
       "      <td>1046671611</td>\n",
       "      <td>141.525303</td>\n",
       "      <td>70.000006</td>\n",
       "      <td>183.859042</td>\n",
       "      <td>45.806575</td>\n",
       "      <td>17.931921</td>\n",
       "      <td>0.535776</td>\n",
       "      <td>0.667856</td>\n",
       "    </tr>\n",
       "    <tr>\n",
       "      <th>2</th>\n",
       "      <td>3972369622338023936</td>\n",
       "      <td>1793755031</td>\n",
       "      <td>244.446942</td>\n",
       "      <td>70.000014</td>\n",
       "      <td>175.235770</td>\n",
       "      <td>15.626861</td>\n",
       "      <td>17.907908</td>\n",
       "      <td>1.219429</td>\n",
       "      <td>1.099232</td>\n",
       "    </tr>\n",
       "    <tr>\n",
       "      <th>3</th>\n",
       "      <td>3728686337743239680</td>\n",
       "      <td>90670554</td>\n",
       "      <td>353.233926</td>\n",
       "      <td>70.000022</td>\n",
       "      <td>208.563980</td>\n",
       "      <td>13.535987</td>\n",
       "      <td>19.350208</td>\n",
       "      <td>0.397049</td>\n",
       "      <td>0.454447</td>\n",
       "    </tr>\n",
       "    <tr>\n",
       "      <th>4</th>\n",
       "      <td>767392698813975424</td>\n",
       "      <td>1737809286</td>\n",
       "      <td>169.993721</td>\n",
       "      <td>70.000022</td>\n",
       "      <td>173.929446</td>\n",
       "      <td>39.482336</td>\n",
       "      <td>19.130243</td>\n",
       "      <td>0.478941</td>\n",
       "      <td>0.664692</td>\n",
       "    </tr>\n",
       "  </tbody>\n",
       "</table>\n",
       "</div>"
      ],
      "text/plain": [
       "             source_id  random_index           l          b          ra  \\\n",
       "0   760561364351045120    1503350018  181.000067  70.000004  171.800075   \n",
       "1  1539023155958580352    1046671611  141.525303  70.000006  183.859042   \n",
       "2  3972369622338023936    1793755031  244.446942  70.000014  175.235770   \n",
       "3  3728686337743239680      90670554  353.233926  70.000022  208.563980   \n",
       "4   767392698813975424    1737809286  169.993721  70.000022  173.929446   \n",
       "\n",
       "         dec  phot_g_mean_mag      bp_g      g_rp  \n",
       "0  36.120229        18.281464  0.662739  0.735563  \n",
       "1  45.806575        17.931921  0.535776  0.667856  \n",
       "2  15.626861        17.907908  1.219429  1.099232  \n",
       "3  13.535987        19.350208  0.397049  0.454447  \n",
       "4  39.482336        19.130243  0.478941  0.664692  "
      ]
     },
     "execution_count": 10,
     "metadata": {},
     "output_type": "execute_result"
    }
   ],
   "source": [
    "full_data_top"
   ]
  },
  {
   "cell_type": "code",
   "execution_count": 11,
   "id": "b73e8e53",
   "metadata": {},
   "outputs": [
    {
     "data": {
      "text/html": [
       "<div>\n",
       "<style scoped>\n",
       "    .dataframe tbody tr th:only-of-type {\n",
       "        vertical-align: middle;\n",
       "    }\n",
       "\n",
       "    .dataframe tbody tr th {\n",
       "        vertical-align: top;\n",
       "    }\n",
       "\n",
       "    .dataframe thead th {\n",
       "        text-align: right;\n",
       "    }\n",
       "</style>\n",
       "<table border=\"1\" class=\"dataframe\">\n",
       "  <thead>\n",
       "    <tr style=\"text-align: right;\">\n",
       "      <th></th>\n",
       "      <th>#Name</th>\n",
       "      <th>Date</th>\n",
       "      <th>RaDeg</th>\n",
       "      <th>DecDeg</th>\n",
       "      <th>AlertMag</th>\n",
       "      <th>HistoricMag</th>\n",
       "      <th>HistoricStdDev</th>\n",
       "      <th>Class</th>\n",
       "      <th>Published</th>\n",
       "      <th>Comment</th>\n",
       "      <th>TNSid</th>\n",
       "    </tr>\n",
       "  </thead>\n",
       "  <tbody>\n",
       "    <tr>\n",
       "      <th>0</th>\n",
       "      <td>Gaia22apm</td>\n",
       "      <td>2022-02-13 05:17:54</td>\n",
       "      <td>200.58364</td>\n",
       "      <td>-6.10488</td>\n",
       "      <td>17.03</td>\n",
       "      <td>18.39</td>\n",
       "      <td>0.45</td>\n",
       "      <td>BL Lac</td>\n",
       "      <td>2022-02-14 08:16:24</td>\n",
       "      <td>known blazar brightens by ~1 mag</td>\n",
       "      <td>AT2022clw</td>\n",
       "    </tr>\n",
       "    <tr>\n",
       "      <th>1</th>\n",
       "      <td>Gaia22apl</td>\n",
       "      <td>2022-02-13 07:13:16</td>\n",
       "      <td>73.63910</td>\n",
       "      <td>-27.72316</td>\n",
       "      <td>18.76</td>\n",
       "      <td>NaN</td>\n",
       "      <td>NaN</td>\n",
       "      <td>unknown</td>\n",
       "      <td>2022-02-14 08:16:20</td>\n",
       "      <td>candidate SN near galaxy pair APMUKS(BJ) B0452...</td>\n",
       "      <td>AT2022cli</td>\n",
       "    </tr>\n",
       "    <tr>\n",
       "      <th>2</th>\n",
       "      <td>Gaia22apk</td>\n",
       "      <td>2022-02-12 17:20:01</td>\n",
       "      <td>197.86097</td>\n",
       "      <td>-6.43970</td>\n",
       "      <td>18.85</td>\n",
       "      <td>19.31</td>\n",
       "      <td>0.13</td>\n",
       "      <td>unknown</td>\n",
       "      <td>2022-02-14 08:16:14</td>\n",
       "      <td>Gaia, WISE and UV source brightens by 0.4 mag ...</td>\n",
       "      <td>AT2022clv</td>\n",
       "    </tr>\n",
       "    <tr>\n",
       "      <th>3</th>\n",
       "      <td>Gaia22apj</td>\n",
       "      <td>2022-02-13 03:21:52</td>\n",
       "      <td>306.62464</td>\n",
       "      <td>36.94113</td>\n",
       "      <td>18.26</td>\n",
       "      <td>18.52</td>\n",
       "      <td>0.06</td>\n",
       "      <td>unknown</td>\n",
       "      <td>2022-02-14 08:16:04</td>\n",
       "      <td>red Gaia source brightens by ~0.35 mag</td>\n",
       "      <td>AT2022clu</td>\n",
       "    </tr>\n",
       "    <tr>\n",
       "      <th>4</th>\n",
       "      <td>Gaia22api</td>\n",
       "      <td>2022-02-12 03:11:34</td>\n",
       "      <td>318.20285</td>\n",
       "      <td>37.09541</td>\n",
       "      <td>18.33</td>\n",
       "      <td>19.11</td>\n",
       "      <td>0.04</td>\n",
       "      <td>unknown</td>\n",
       "      <td>2022-02-13 11:40:34</td>\n",
       "      <td>Flare on Gaia source</td>\n",
       "      <td>AT2022cey</td>\n",
       "    </tr>\n",
       "  </tbody>\n",
       "</table>\n",
       "</div>"
      ],
      "text/plain": [
       "       #Name                 Date      RaDeg    DecDeg   AlertMag  \\\n",
       "0  Gaia22apm  2022-02-13 05:17:54  200.58364  -6.10488      17.03   \n",
       "1  Gaia22apl  2022-02-13 07:13:16   73.63910 -27.72316      18.76   \n",
       "2  Gaia22apk  2022-02-12 17:20:01  197.86097  -6.43970      18.85   \n",
       "3  Gaia22apj  2022-02-13 03:21:52  306.62464  36.94113      18.26   \n",
       "4  Gaia22api  2022-02-12 03:11:34  318.20285  37.09541      18.33   \n",
       "\n",
       "    HistoricMag   HistoricStdDev    Class            Published  \\\n",
       "0         18.39             0.45   BL Lac  2022-02-14 08:16:24   \n",
       "1           NaN              NaN  unknown  2022-02-14 08:16:20   \n",
       "2         19.31             0.13  unknown  2022-02-14 08:16:14   \n",
       "3         18.52             0.06  unknown  2022-02-14 08:16:04   \n",
       "4         19.11             0.04  unknown  2022-02-13 11:40:34   \n",
       "\n",
       "                                             Comment      TNSid  \n",
       "0                   known blazar brightens by ~1 mag  AT2022clw  \n",
       "1  candidate SN near galaxy pair APMUKS(BJ) B0452...  AT2022cli  \n",
       "2  Gaia, WISE and UV source brightens by 0.4 mag ...  AT2022clv  \n",
       "3             red Gaia source brightens by ~0.35 mag  AT2022clu  \n",
       "4                               Flare on Gaia source  AT2022cey  "
      ]
     },
     "execution_count": 11,
     "metadata": {},
     "output_type": "execute_result"
    }
   ],
   "source": [
    "full_data_alert_top"
   ]
  },
  {
   "cell_type": "code",
   "execution_count": 12,
   "id": "efcf2c2c",
   "metadata": {},
   "outputs": [
    {
     "data": {
      "text/plain": [
       "(1982818, 9)"
      ]
     },
     "execution_count": 12,
     "metadata": {},
     "output_type": "execute_result"
    }
   ],
   "source": [
    "full_data.shape"
   ]
  },
  {
   "cell_type": "code",
   "execution_count": 13,
   "id": "80ceea56",
   "metadata": {},
   "outputs": [
    {
     "data": {
      "text/plain": [
       "(19102, 11)"
      ]
     },
     "execution_count": 13,
     "metadata": {},
     "output_type": "execute_result"
    }
   ],
   "source": [
    "gaia_alert_data.shape"
   ]
  },
  {
   "cell_type": "code",
   "execution_count": 14,
   "id": "1b63a185",
   "metadata": {},
   "outputs": [],
   "source": [
    "s_array1 = full_data[[\"ra\", \"dec\"]].to_numpy()"
   ]
  },
  {
   "cell_type": "code",
   "execution_count": 15,
   "id": "d596871b",
   "metadata": {},
   "outputs": [
    {
     "name": "stdout",
     "output_type": "stream",
     "text": [
      "(1982818, 2)\n"
     ]
    }
   ],
   "source": [
    "print(np.shape(s_array1))"
   ]
  },
  {
   "cell_type": "code",
   "execution_count": 16,
   "id": "c8a7849e",
   "metadata": {},
   "outputs": [],
   "source": [
    "s_array2 = gaia_alert_data[[\" RaDeg\", \" DecDeg\"]].to_numpy()"
   ]
  },
  {
   "cell_type": "code",
   "execution_count": 17,
   "id": "2e8fc74b",
   "metadata": {},
   "outputs": [
    {
     "name": "stdout",
     "output_type": "stream",
     "text": [
      "(19102, 2)\n"
     ]
    }
   ],
   "source": [
    "print(np.shape(s_array2))"
   ]
  },
  {
   "cell_type": "code",
   "execution_count": null,
   "id": "24103cfa",
   "metadata": {},
   "outputs": [],
   "source": [
    "matches, no_matches, time = crossmatch_tree(s_array1, s_array2,0.0006) #0.1 0.02 0.0006 is the gaia resolution"
   ]
  },
  {
   "cell_type": "code",
   "execution_count": null,
   "id": "d8c80c3e",
   "metadata": {},
   "outputs": [],
   "source": [
    "print(np.shape(matches))"
   ]
  },
  {
   "cell_type": "code",
   "execution_count": null,
   "id": "cca885cc",
   "metadata": {},
   "outputs": [],
   "source": [
    "print(np.array(matches)[:,0]) # indices for all the cross-matched sorces in the full data cuts"
   ]
  },
  {
   "cell_type": "code",
   "execution_count": null,
   "id": "f051713c",
   "metadata": {},
   "outputs": [],
   "source": [
    "matches_inside_full= np.array(matches)[:,0]"
   ]
  },
  {
   "cell_type": "code",
   "execution_count": null,
   "id": "b804550b",
   "metadata": {},
   "outputs": [],
   "source": [
    "matches_inside_alerts= np.array(matches)[:,1]"
   ]
  },
  {
   "cell_type": "code",
   "execution_count": null,
   "id": "ff98ae62",
   "metadata": {},
   "outputs": [],
   "source": [
    "reduced = full_data.iloc[matches_inside_full]"
   ]
  },
  {
   "cell_type": "code",
   "execution_count": null,
   "id": "3017591f",
   "metadata": {},
   "outputs": [],
   "source": [
    "reduced_inside_alerts = gaia_alert_data.iloc[matches_inside_alerts]"
   ]
  },
  {
   "cell_type": "code",
   "execution_count": null,
   "id": "b99c4539",
   "metadata": {
    "scrolled": true
   },
   "outputs": [],
   "source": [
    "reduced_inside_alerts[\" Class\"].value_counts(dropna=False)"
   ]
  },
  {
   "cell_type": "code",
   "execution_count": null,
   "id": "a20a0cce",
   "metadata": {},
   "outputs": [],
   "source": [
    "#training_data_aux= reduced_inside_alerts.loc[reduced_inside_alerts[\" Class\"].isin([\"SN Ia\",\"QSO\",\"SN II\",\"AGN\"])] "
   ]
  },
  {
   "cell_type": "code",
   "execution_count": null,
   "id": "17bd305e",
   "metadata": {},
   "outputs": [],
   "source": [
    "#aux=training_data_aux[[\" Class\"]].replace({\"QSO\": 0, \"SN Ia\": 1,\"SN II\":2, \"AGN\":3 })\n",
    "aux1 = reduced_inside_alerts[[\" Class\"]]\n",
    "aux2 = reduced[[\"bp_g\",\"g_rp\",\"phot_g_mean_mag\"]]\n",
    "\n",
    "aux2.shape\n"
   ]
  },
  {
   "cell_type": "code",
   "execution_count": null,
   "id": "cbca9c00",
   "metadata": {
    "scrolled": true
   },
   "outputs": [],
   "source": [
    "aux1.reset_index(drop=True, inplace=True) # to avoid conflicting indices\n",
    "aux2.reset_index(drop=True, inplace=True)# to avoid conflicting indices\n",
    "test=pd.concat([aux2, aux1], axis=1)\n",
    "test"
   ]
  },
  {
   "cell_type": "code",
   "execution_count": null,
   "id": "abf704c4",
   "metadata": {},
   "outputs": [],
   "source": [
    "training_data= test.loc[test[\" Class\"].isin([\"SN Ia\",\"QSO\",\"SN II\",\"AGN\"])] \n",
    "test_data = test.loc[test[\" Class\"].isin([\"unknown\"])] \n",
    "\n"
   ]
  },
  {
   "cell_type": "code",
   "execution_count": null,
   "id": "83637be5",
   "metadata": {
    "scrolled": true
   },
   "outputs": [],
   "source": [
    "training_data[\" Class\"].replace({\"SN Ia\":0 ,\"QSO\":1,\"SN II\":2,\"AGN\":3}, inplace=True) # dictionary for the classfier"
   ]
  },
  {
   "cell_type": "code",
   "execution_count": null,
   "id": "2bea220f",
   "metadata": {
    "scrolled": true
   },
   "outputs": [],
   "source": [
    "training_data\n"
   ]
  },
  {
   "cell_type": "code",
   "execution_count": null,
   "id": "cceeb867",
   "metadata": {},
   "outputs": [],
   "source": [
    "training_save = training_data[[\"bp_g\",\"g_rp\",\"phot_g_mean_mag\"]].fillna(0)\n",
    "results_training = training_data[[\" Class\"]].fillna(0)"
   ]
  },
  {
   "cell_type": "code",
   "execution_count": null,
   "id": "f0596914",
   "metadata": {},
   "outputs": [],
   "source": [
    "training_save.to_csv('training.csv', index=False)"
   ]
  },
  {
   "cell_type": "code",
   "execution_count": null,
   "id": "2293539c",
   "metadata": {},
   "outputs": [],
   "source": [
    "results_training.to_csv('classified.csv', index = False)"
   ]
  },
  {
   "cell_type": "code",
   "execution_count": null,
   "id": "81a5caae",
   "metadata": {},
   "outputs": [],
   "source": [
    "training_save = training_data[[\"bp_g\",\"g_rp\",\"phot_g_mean_mag\"]]\n",
    "results_training = training_data[[\" Class\"]]"
   ]
  },
  {
   "cell_type": "code",
   "execution_count": null,
   "id": "156b47e0",
   "metadata": {},
   "outputs": [],
   "source": [
    "test_save = test_data[[\"bp_g\",\"g_rp\",\"phot_g_mean_mag\"]]\n",
    "results_test = test_data[[\" Class\"]]"
   ]
  },
  {
   "cell_type": "code",
   "execution_count": null,
   "id": "7b7b5891",
   "metadata": {},
   "outputs": [],
   "source": [
    "test_save.to_csv('test.csv', index=False)"
   ]
  },
  {
   "cell_type": "code",
   "execution_count": null,
   "id": "982c9890",
   "metadata": {},
   "outputs": [],
   "source": []
  },
  {
   "cell_type": "code",
   "execution_count": null,
   "id": "68a82a78",
   "metadata": {},
   "outputs": [],
   "source": [
    "#onlysn=reduced_inside_alerts.loc[reduced_inside_alerts[\" Class\"].isin([\"SN Ia\"])] \n",
    "#onlysn[\" Class\"].value_counts(dropna=False)"
   ]
  },
  {
   "cell_type": "code",
   "execution_count": null,
   "id": "cb15940c",
   "metadata": {},
   "outputs": [],
   "source": [
    "#onlyqso=reduced_inside_alerts.loc[reduced_inside_alerts[\" Class\"].isin([\"QSO\"])] \n",
    "#onlyqso[\" Class\"].value_counts(dropna=False)"
   ]
  },
  {
   "cell_type": "code",
   "execution_count": null,
   "id": "ca09b89d",
   "metadata": {},
   "outputs": [],
   "source": [
    "#g_rp_full = full_data[[\"g_rp\"]].to_numpy()\n",
    "#bp_g_full = full_data[[\"bp_g\"]].to_numpy()\n"
   ]
  },
  {
   "cell_type": "code",
   "execution_count": null,
   "id": "6a0ae84d",
   "metadata": {},
   "outputs": [],
   "source": [
    "#g_rp = reduced[[\"g_rp\"]].to_numpy()\n",
    "#bp_g = reduced[[\"bp_g\"]].to_numpy()\n",
    "    "
   ]
  },
  {
   "cell_type": "code",
   "execution_count": null,
   "id": "654c0085",
   "metadata": {},
   "outputs": [],
   "source": [
    "#onlysn2=reduced_inside_alerts.loc[reduced_inside_alerts[\" Class\"].isin([\"SN II\"])] \n",
    "#onlysn2[\" Class\"].value_counts(dropna=False)"
   ]
  },
  {
   "cell_type": "code",
   "execution_count": null,
   "id": "d8d60ed3",
   "metadata": {},
   "outputs": [],
   "source": [
    "#newframe=reduced_inside_alerts[\" Class\"].replace({\"QSO\": 0, \"SN Ia\": 1,\"SN II\":2, \"AGN\":3 })#.value_counts(dropna=False)"
   ]
  },
  {
   "cell_type": "code",
   "execution_count": null,
   "id": "1d901ce3",
   "metadata": {},
   "outputs": [],
   "source": []
  },
  {
   "cell_type": "code",
   "execution_count": null,
   "id": "51c02852",
   "metadata": {},
   "outputs": [],
   "source": []
  }
 ],
 "metadata": {
  "kernelspec": {
   "display_name": "Python 3",
   "language": "python",
   "name": "python3"
  },
  "language_info": {
   "codemirror_mode": {
    "name": "ipython",
    "version": 3
   },
   "file_extension": ".py",
   "mimetype": "text/x-python",
   "name": "python",
   "nbconvert_exporter": "python",
   "pygments_lexer": "ipython3",
   "version": "3.6.9"
  }
 },
 "nbformat": 4,
 "nbformat_minor": 5
}
