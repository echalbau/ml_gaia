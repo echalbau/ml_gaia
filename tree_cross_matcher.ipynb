{
 "cells": [
  {
   "cell_type": "code",
   "execution_count": 2,
   "id": "95c1f73b",
   "metadata": {},
   "outputs": [],
   "source": [
    "from astropy.coordinates import SkyCoord\n",
    "import numpy as np\n",
    "from astropy import units as u\n",
    "from time import time\n",
    "\n",
    "def crossmatch_tree(coords1, coords2):\n",
    "    start_time = time()\n",
    "    max_radius = 5\n",
    "    matches = []\n",
    "    no_matches = []\n",
    "    \n",
    "    \n",
    "    coords1_sc = SkyCoord(coords1*u.degree, frame='icrs')\n",
    "    coords2_sc = SkyCoord(coords2*u.degree, frame='icrs')\n",
    "    \n",
    "\n",
    "    closest_ids, closest_dists, _ = coords1_sc.match_to_catalog_sky(coords2_sc)\n",
    "    \n",
    "    for id1, (closest_id2, dist) in enumerate(zip(closest_ids, closest_dists)):\n",
    "        closest_dist = dist.value\n",
    "        \n",
    "        if closest_dist > max_radius:\n",
    "            no_matches.append(id1)\n",
    "        else:\n",
    "            matches.append([id1, closest_id2, closest_dist])\n",
    "    \n",
    "    time_taken = time() - start_time\n",
    "    return matches, no_matches, time_taken"
   ]
  },
  {
   "cell_type": "code",
   "execution_count": 3,
   "id": "811bef86",
   "metadata": {},
   "outputs": [],
   "source": [
    "cat1 = np.array([[180, 30], [45, 10], [300, -45]])\n",
    "cat2 = np.array([[180, 32], [55, 10], [302, -44]])"
   ]
  },
  {
   "cell_type": "code",
   "execution_count": 4,
   "id": "e909e40f",
   "metadata": {},
   "outputs": [
    {
     "name": "stdout",
     "output_type": "stream",
     "text": [
      "(3, 2)\n"
     ]
    }
   ],
   "source": [
    "print(np.shape(cat1))"
   ]
  },
  {
   "cell_type": "code",
   "execution_count": 5,
   "id": "4e3a1408",
   "metadata": {},
   "outputs": [],
   "source": [
    "matches, no_matches, time = crossmatch_tree(cat1, cat2)"
   ]
  },
  {
   "cell_type": "code",
   "execution_count": 6,
   "id": "5c9dfe4d",
   "metadata": {},
   "outputs": [
    {
     "name": "stdout",
     "output_type": "stream",
     "text": [
      "[[0, 0, 2.0000000000000036], [2, 2, 1.7420109046547128]] [1] 0.14194750785827637\n"
     ]
    }
   ],
   "source": [
    "print(matches, no_matches, time)"
   ]
  },
  {
   "cell_type": "code",
   "execution_count": null,
   "id": "a408327c",
   "metadata": {},
   "outputs": [],
   "source": []
  }
 ],
 "metadata": {
  "kernelspec": {
   "display_name": "Python 2",
   "language": "python",
   "name": "python2"
  },
  "language_info": {
   "codemirror_mode": {
    "name": "ipython",
    "version": 3
   },
   "file_extension": ".py",
   "mimetype": "text/x-python",
   "name": "python",
   "nbconvert_exporter": "python",
   "pygments_lexer": "ipython3",
   "version": "3.6.9"
  }
 },
 "nbformat": 4,
 "nbformat_minor": 5
}
